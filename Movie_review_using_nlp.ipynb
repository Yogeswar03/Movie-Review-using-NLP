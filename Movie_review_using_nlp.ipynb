{
  "nbformat": 4,
  "nbformat_minor": 0,
  "metadata": {
    "colab": {
      "provenance": []
    },
    "kernelspec": {
      "name": "python3",
      "display_name": "Python 3"
    },
    "language_info": {
      "name": "python"
    }
  },
  "cells": [
    {
      "cell_type": "code",
      "execution_count": null,
      "metadata": {
        "id": "9CjZEwnIqY2y"
      },
      "outputs": [],
      "source": [
        "import nltk\n",
        "from nltk.corpus import movie_reviews\n",
        "from nltk.classify import NaiveBayesClassifier\n",
        "from nltk.classify.util import accuracy as nltk_accuracy"
      ]
    },
    {
      "cell_type": "code",
      "source": [
        "nltk.download('movie_reviews')"
      ],
      "metadata": {
        "colab": {
          "base_uri": "https://localhost:8080/"
        },
        "id": "-cNwa2jYqjsD",
        "outputId": "bb0e7122-a42c-4394-8088-b1f275b11f89"
      },
      "execution_count": null,
      "outputs": [
        {
          "output_type": "stream",
          "name": "stderr",
          "text": [
            "[nltk_data] Downloading package movie_reviews to /root/nltk_data...\n",
            "[nltk_data]   Package movie_reviews is already up-to-date!\n"
          ]
        },
        {
          "output_type": "execute_result",
          "data": {
            "text/plain": [
              "True"
            ]
          },
          "metadata": {},
          "execution_count": 4
        }
      ]
    },
    {
      "cell_type": "code",
      "source": [
        "positive_reviews = []\n",
        "for file_id in movie_reviews.fileids('pos'):\n",
        "    words = movie_reviews.words(file_id)\n",
        "    positive_reviews.append((words, 'pos'))"
      ],
      "metadata": {
        "id": "zK_kdM3-qkZs"
      },
      "execution_count": null,
      "outputs": []
    },
    {
      "cell_type": "code",
      "source": [
        "negative_reviews = []\n",
        "for file_id in movie_reviews.fileids('neg'):\n",
        "    words = movie_reviews.words(file_id)\n",
        "    negative_reviews.append((words, 'neg'))"
      ],
      "metadata": {
        "id": "ZBicpC8kqpv1"
      },
      "execution_count": null,
      "outputs": []
    },
    {
      "cell_type": "code",
      "source": [
        "def extract_features(words):\n",
        "    return dict([(word, True) for word in words])"
      ],
      "metadata": {
        "id": "HMv2M412qxME"
      },
      "execution_count": null,
      "outputs": []
    },
    {
      "cell_type": "code",
      "source": [
        "positive_features = [(extract_features(words), category) for words, category in positive_reviews]\n",
        "negative_features = [(extract_features(words), category) for words, category in negative_reviews]"
      ],
      "metadata": {
        "id": "amyNhOaLq0lU"
      },
      "execution_count": null,
      "outputs": []
    },
    {
      "cell_type": "code",
      "source": [
        "split_ratio = 0.8\n",
        "positive_split = int(split_ratio * len(positive_features))\n",
        "negative_split = int(split_ratio * len(negative_features))"
      ],
      "metadata": {
        "id": "LQvaseEtq3Ng"
      },
      "execution_count": null,
      "outputs": []
    },
    {
      "cell_type": "code",
      "source": [
        "train_set = positive_features[:positive_split] + negative_features[:negative_split]\n",
        "test_set = positive_features[positive_split:] + negative_features[negative_split:]"
      ],
      "metadata": {
        "id": "hYkX2Re6q6W8"
      },
      "execution_count": null,
      "outputs": []
    },
    {
      "cell_type": "code",
      "source": [
        "classifier = NaiveBayesClassifier.train(train_set)"
      ],
      "metadata": {
        "id": "yV3Sz3xAq85G"
      },
      "execution_count": null,
      "outputs": []
    },
    {
      "cell_type": "code",
      "source": [
        "accuracy = nltk_accuracy(classifier, test_set)\n",
        "print('Accuracy:', accuracy)"
      ],
      "metadata": {
        "colab": {
          "base_uri": "https://localhost:8080/"
        },
        "id": "9ez14P-Wq_o7",
        "outputId": "e94d0e03-46ca-4655-c408-cb3d91446188"
      },
      "execution_count": null,
      "outputs": [
        {
          "output_type": "stream",
          "name": "stdout",
          "text": [
            "Accuracy: 0.735\n"
          ]
        }
      ]
    },
    {
      "cell_type": "code",
      "source": [
        "review = \"This movie is great!\"\n",
        "words = review.split()\n",
        "features = extract_features(words)\n",
        "sentiment = classifier.classify(features)\n",
        "print('Sentiment:', sentiment)"
      ],
      "metadata": {
        "id": "bUEWqkYQrCos",
        "outputId": "eb6dea81-da16-4778-debe-a3b34fd7d4cb",
        "colab": {
          "base_uri": "https://localhost:8080/"
        }
      },
      "execution_count": null,
      "outputs": [
        {
          "output_type": "stream",
          "name": "stdout",
          "text": [
            "Sentiment: neg\n"
          ]
        }
      ]
    },
    {
      "cell_type": "code",
      "source": [],
      "metadata": {
        "id": "BNdB7MrBrFuI"
      },
      "execution_count": null,
      "outputs": []
    }
  ]
}